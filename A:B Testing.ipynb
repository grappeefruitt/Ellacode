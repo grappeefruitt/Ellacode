{
 "cells": [
  {
   "cell_type": "markdown",
   "metadata": {},
   "source": [
    "From business side, we need to select variant A based on our business goals. \n",
    "As the bigger the CTR is, the more click the user buys a product and we want to increase users' time spent on our web.\n",
    "We'll select variant A as it will maximize these two factors.\n",
    "\n",
    "roll out plan\n",
    "Step 1 Define the objective: Clearly identify the goal of introducing the feature and how it aligns with your overall business or project objectives.\n",
    "Step 2 Identify a target audience: Determine the specific segment or group of users who will benefit the most from the feature. Consider factors such as user personas, user behavior, or customer feedback.\n",
    "Step 3 Set up a pilot group: Select a subset of your target audience to participate in a pilot program. \n",
    "Step 4  Gather feedback from the pilot group through surveys, user testing, or other feedback mechanisms. Analyze the feedback to identify any areas for improvement or necessary adjustments.\n",
    "Step 5 Use the feedback and insights gained from the pilot group to make iterative improvements to the feature. Address any bugs, usability issues, or performance concerns.\n",
    "Step 6 Introduce the feature to a broader audience so we can know the performance before expanding it to a larger audience.\n",
    "Step 7 Promptly address any issues or concerns raised by users during the rollout. Provide support channels for users to report bugs, provide feedback, or seek assistance.\n",
    "Step 8 Proceed with full roll out\n",
    "\n"
   ]
  },
  {
   "cell_type": "code",
   "execution_count": null,
   "metadata": {},
   "outputs": [],
   "source": [
    "import pandas as pd\n",
    "import numpy as np\n",
    "import matplotlib.pyplot as plt\n",
    "import seaborn as sns"
   ]
  },
  {
   "cell_type": "code",
   "execution_count": 2,
   "metadata": {},
   "outputs": [],
   "source": [
    "df = pd.read_csv('/Users/youziya/OneDrive - York University/MBAN 6100 DATA SCIENCE I/experiment_dataset.csv')"
   ]
  },
  {
   "cell_type": "code",
   "execution_count": 3,
   "metadata": {},
   "outputs": [
    {
     "name": "stdout",
     "output_type": "stream",
     "text": [
      "<class 'pandas.core.frame.DataFrame'>\n",
      "RangeIndex: 1000 entries, 0 to 999\n",
      "Data columns (total 7 columns):\n",
      " #   Column      Non-Null Count  Dtype  \n",
      "---  ------      --------------  -----  \n",
      " 0   Unnamed: 0  1000 non-null   int64  \n",
      " 1   Age         1000 non-null   int64  \n",
      " 2   Location    1000 non-null   object \n",
      " 3   Device      1000 non-null   object \n",
      " 4   Variant     1000 non-null   object \n",
      " 5   Time Spent  1000 non-null   float64\n",
      " 6   CTR         1000 non-null   float64\n",
      "dtypes: float64(2), int64(2), object(3)\n",
      "memory usage: 54.8+ KB\n"
     ]
    }
   ],
   "source": [
    "df.info()"
   ]
  },
  {
   "cell_type": "code",
   "execution_count": 4,
   "metadata": {},
   "outputs": [],
   "source": [
    "df.drop('Unnamed: 0', axis=1, inplace = True)"
   ]
  },
  {
   "cell_type": "code",
   "execution_count": 5,
   "metadata": {},
   "outputs": [
    {
     "name": "stdout",
     "output_type": "stream",
     "text": [
      "<class 'pandas.core.frame.DataFrame'>\n",
      "RangeIndex: 1000 entries, 0 to 999\n",
      "Data columns (total 6 columns):\n",
      " #   Column      Non-Null Count  Dtype  \n",
      "---  ------      --------------  -----  \n",
      " 0   Age         1000 non-null   int64  \n",
      " 1   Location    1000 non-null   object \n",
      " 2   Device      1000 non-null   object \n",
      " 3   Variant     1000 non-null   object \n",
      " 4   Time Spent  1000 non-null   float64\n",
      " 5   CTR         1000 non-null   float64\n",
      "dtypes: float64(2), int64(1), object(3)\n",
      "memory usage: 47.0+ KB\n"
     ]
    }
   ],
   "source": [
    "df.info()"
   ]
  },
  {
   "cell_type": "code",
   "execution_count": 6,
   "metadata": {},
   "outputs": [
    {
     "data": {
      "text/html": [
       "<div>\n",
       "<style scoped>\n",
       "    .dataframe tbody tr th:only-of-type {\n",
       "        vertical-align: middle;\n",
       "    }\n",
       "\n",
       "    .dataframe tbody tr th {\n",
       "        vertical-align: top;\n",
       "    }\n",
       "\n",
       "    .dataframe thead th {\n",
       "        text-align: right;\n",
       "    }\n",
       "</style>\n",
       "<table border=\"1\" class=\"dataframe\">\n",
       "  <thead>\n",
       "    <tr style=\"text-align: right;\">\n",
       "      <th></th>\n",
       "      <th>CTR</th>\n",
       "      <th>Time Spent</th>\n",
       "    </tr>\n",
       "    <tr>\n",
       "      <th>Variant</th>\n",
       "      <th></th>\n",
       "      <th></th>\n",
       "    </tr>\n",
       "  </thead>\n",
       "  <tbody>\n",
       "    <tr>\n",
       "      <th>Control</th>\n",
       "      <td>0.098554</td>\n",
       "      <td>20.070781</td>\n",
       "    </tr>\n",
       "    <tr>\n",
       "      <th>Variant A</th>\n",
       "      <td>0.120269</td>\n",
       "      <td>24.805547</td>\n",
       "    </tr>\n",
       "    <tr>\n",
       "      <th>Variant B</th>\n",
       "      <td>0.108933</td>\n",
       "      <td>23.343783</td>\n",
       "    </tr>\n",
       "  </tbody>\n",
       "</table>\n",
       "</div>"
      ],
      "text/plain": [
       "                CTR  Time Spent\n",
       "Variant                        \n",
       "Control    0.098554   20.070781\n",
       "Variant A  0.120269   24.805547\n",
       "Variant B  0.108933   23.343783"
      ]
     },
     "execution_count": 6,
     "metadata": {},
     "output_type": "execute_result"
    }
   ],
   "source": [
    "df.groupby('Variant')[['CTR','Time Spent']].mean()"
   ]
  },
  {
   "cell_type": "code",
   "execution_count": 8,
   "metadata": {},
   "outputs": [],
   "source": [
    "from scipy import stats"
   ]
  },
  {
   "cell_type": "code",
   "execution_count": 9,
   "metadata": {},
   "outputs": [
    {
     "name": "stdout",
     "output_type": "stream",
     "text": [
      "F_onewayResult(statistic=93.58891593622702, pvalue=5.638952705781554e-38)\n"
     ]
    }
   ],
   "source": [
    "#use ANOVA test CTR\n",
    "Var_1 = df[df['Variant'] == 'Variant A']['CTR']\n",
    "Var_2 = df[df['Variant'] == 'Variant B']['CTR']\n",
    "Var_3 = df[df['Variant'] == 'Control']['CTR']\n",
    "\n",
    "p_val = stats.f_oneway(Var_1, Var_2, Var_3)\n",
    "print(p_val)"
   ]
  },
  {
   "cell_type": "code",
   "execution_count": 10,
   "metadata": {},
   "outputs": [
    {
     "name": "stdout",
     "output_type": "stream",
     "text": [
      "F_onewayResult(statistic=75.60840947416146, pvalue=2.676826588910432e-31)\n"
     ]
    }
   ],
   "source": [
    "#use ANOVA test Time spent\n",
    "Var_1 = df[df['Variant'] == 'Variant A']['Time Spent']\n",
    "Var_2 = df[df['Variant'] == 'Variant B']['Time Spent']\n",
    "Var_3 = df[df['Variant'] == 'Control']['Time Spent']\n",
    "\n",
    "p_val = stats.f_oneway(Var_1, Var_2, Var_3)\n",
    "print(p_val)"
   ]
  },
  {
   "cell_type": "code",
   "execution_count": null,
   "metadata": {},
   "outputs": [],
   "source": [
    "#it seems like F-statistic of CTR is higher than time spent, which indicates CTR has more signifaciant differnece than Time spent. \n",
    "#there may be a stronger or more significant difference between the means of the groups in one column compared to the other.\n",
    "#both p value are value which means there is a significant difference"
   ]
  },
  {
   "cell_type": "code",
   "execution_count": 14,
   "metadata": {},
   "outputs": [],
   "source": [
    "var1 = df[df['Variant']=='Variant A']['CTR']\n",
    "var2 = df[df['Variant']=='Variant B']['CTR']\n",
    "control = df[df['Variant']=='Control']['CTR']"
   ]
  },
  {
   "cell_type": "code",
   "execution_count": 15,
   "metadata": {},
   "outputs": [
    {
     "name": "stdout",
     "output_type": "stream",
     "text": [
      "Ttest_indResult(statistic=13.829424737499187, pvalue=1.9602781373243157e-38)\n",
      "Ttest_indResult(statistic=6.4718143491783255, pvalue=1.8743198199982106e-10)\n",
      "Ttest_indResult(statistic=7.08499696316128, pvalue=3.587180487986577e-12)\n"
     ]
    }
   ],
   "source": [
    "p_val = stats.ttest_ind(var1, control)\n",
    "p_val_2 = stats.ttest_ind(var2, control)\n",
    "p_val_3 = stats.ttest_ind(var1, var2)\n",
    "print(p_val)\n",
    "print(p_val_2)\n",
    "print(p_val_3)"
   ]
  },
  {
   "cell_type": "code",
   "execution_count": null,
   "metadata": {},
   "outputs": [],
   "source": [
    "#we can see reult 2 and 3 is close, therefore it is likely no matter which variant we select, both should provide good results\n",
    "# for the first result, p value is smaller than significant level which indicates there is a significant difference"
   ]
  },
  {
   "cell_type": "code",
   "execution_count": 16,
   "metadata": {},
   "outputs": [],
   "source": [
    "var1 = df[df['Variant']=='Variant A']['Time Spent']\n",
    "var2 = df[df['Variant']=='Variant B']['Time Spent']\n",
    "control = df[df['Variant']=='Control']['Time Spent']"
   ]
  },
  {
   "cell_type": "code",
   "execution_count": 17,
   "metadata": {},
   "outputs": [
    {
     "name": "stdout",
     "output_type": "stream",
     "text": [
      "Ttest_indResult(statistic=12.142363487472364, pvalue=8.488565644996449e-31)\n",
      "Ttest_indResult(statistic=8.174237395991806, pvalue=1.496358076285182e-15)\n",
      "Ttest_indResult(statistic=3.678817539420908, pvalue=0.000253477101476526)\n"
     ]
    }
   ],
   "source": [
    "p_val = stats.ttest_ind(var1, control)\n",
    "p_val_2 = stats.ttest_ind(var2, control)\n",
    "p_val_3 = stats.ttest_ind(var1, var2)\n",
    "print(p_val)\n",
    "print(p_val_2)\n",
    "print(p_val_3)"
   ]
  },
  {
   "cell_type": "code",
   "execution_count": null,
   "metadata": {},
   "outputs": [],
   "source": [
    "#for time spent, three results are all different"
   ]
  },
  {
   "cell_type": "code",
   "execution_count": 18,
   "metadata": {},
   "outputs": [
    {
     "data": {
      "text/html": [
       "<div>\n",
       "<style scoped>\n",
       "    .dataframe tbody tr th:only-of-type {\n",
       "        vertical-align: middle;\n",
       "    }\n",
       "\n",
       "    .dataframe tbody tr th {\n",
       "        vertical-align: top;\n",
       "    }\n",
       "\n",
       "    .dataframe thead th {\n",
       "        text-align: right;\n",
       "    }\n",
       "</style>\n",
       "<table border=\"1\" class=\"dataframe\">\n",
       "  <thead>\n",
       "    <tr style=\"text-align: right;\">\n",
       "      <th></th>\n",
       "      <th>Time Spent</th>\n",
       "    </tr>\n",
       "    <tr>\n",
       "      <th>Variant</th>\n",
       "      <th></th>\n",
       "    </tr>\n",
       "  </thead>\n",
       "  <tbody>\n",
       "    <tr>\n",
       "      <th>Control</th>\n",
       "      <td>20.070781</td>\n",
       "    </tr>\n",
       "    <tr>\n",
       "      <th>Variant A</th>\n",
       "      <td>24.805547</td>\n",
       "    </tr>\n",
       "    <tr>\n",
       "      <th>Variant B</th>\n",
       "      <td>23.343783</td>\n",
       "    </tr>\n",
       "  </tbody>\n",
       "</table>\n",
       "</div>"
      ],
      "text/plain": [
       "           Time Spent\n",
       "Variant              \n",
       "Control     20.070781\n",
       "Variant A   24.805547\n",
       "Variant B   23.343783"
      ]
     },
     "execution_count": 18,
     "metadata": {},
     "output_type": "execute_result"
    }
   ],
   "source": [
    "df.groupby('Variant')[['Time Spent']].mean()\n",
    "#It looks like variant A is slightly better. From the above, the result is statistically significant. #\n",
    "# so regarding time spent, variant A is better."
   ]
  },
  {
   "cell_type": "code",
   "execution_count": 19,
   "metadata": {},
   "outputs": [
    {
     "data": {
      "text/html": [
       "<div>\n",
       "<style scoped>\n",
       "    .dataframe tbody tr th:only-of-type {\n",
       "        vertical-align: middle;\n",
       "    }\n",
       "\n",
       "    .dataframe tbody tr th {\n",
       "        vertical-align: top;\n",
       "    }\n",
       "\n",
       "    .dataframe thead th {\n",
       "        text-align: right;\n",
       "    }\n",
       "</style>\n",
       "<table border=\"1\" class=\"dataframe\">\n",
       "  <thead>\n",
       "    <tr style=\"text-align: right;\">\n",
       "      <th></th>\n",
       "      <th>CTR</th>\n",
       "    </tr>\n",
       "    <tr>\n",
       "      <th>Variant</th>\n",
       "      <th></th>\n",
       "    </tr>\n",
       "  </thead>\n",
       "  <tbody>\n",
       "    <tr>\n",
       "      <th>Control</th>\n",
       "      <td>0.098554</td>\n",
       "    </tr>\n",
       "    <tr>\n",
       "      <th>Variant A</th>\n",
       "      <td>0.120269</td>\n",
       "    </tr>\n",
       "    <tr>\n",
       "      <th>Variant B</th>\n",
       "      <td>0.108933</td>\n",
       "    </tr>\n",
       "  </tbody>\n",
       "</table>\n",
       "</div>"
      ],
      "text/plain": [
       "                CTR\n",
       "Variant            \n",
       "Control    0.098554\n",
       "Variant A  0.120269\n",
       "Variant B  0.108933"
      ]
     },
     "execution_count": 19,
     "metadata": {},
     "output_type": "execute_result"
    }
   ],
   "source": [
    "df.groupby('Variant')[['CTR']].mean()\n",
    "#it looks like variant A is slightly better. From the above, the result is statistically significant. #\n",
    "# so regarding time spent, variant A is better."
   ]
  },
  {
   "cell_type": "code",
   "execution_count": 20,
   "metadata": {},
   "outputs": [
    {
     "name": "stdout",
     "output_type": "stream",
     "text": [
      "Variant: Control\n",
      "T-statistic: -9.51587333073033\n",
      "P-value: 3.488519228895082e-19\n",
      "\n",
      "Variant: Variant B\n",
      "T-statistic: -0.18367331320250496\n",
      "P-value: 0.8543828930678917\n",
      "\n",
      "Variant: Variant A\n",
      "T-statistic: 10.049360926473813\n",
      "P-value: 6.734587868689621e-21\n",
      "\n"
     ]
    }
   ],
   "source": [
    "# Analyzing CTR\n",
    "# Perform the appropriate statistical test for each variant and CTR\n",
    "variants = df['Variant'].unique()\n",
    "for variant in variants:\n",
    "    variant_data = df[df['Variant'] == variant]['CTR']\n",
    "    overall_ctr_mean = df['CTR'].mean()\n",
    "    t_stat, p_val = stats.ttest_1samp(variant_data, overall_ctr_mean)\n",
    "\n",
    "    print(f\"Variant: {variant}\")\n",
    "    print(f\"T-statistic: {t_stat}\")\n",
    "    print(f\"P-value: {p_val}\\n\")"
   ]
  },
  {
   "cell_type": "code",
   "execution_count": 21,
   "metadata": {},
   "outputs": [
    {
     "name": "stdout",
     "output_type": "stream",
     "text": [
      "Variant: Control\n",
      "T-statistic: -9.509119354451167\n",
      "P-value: 3.671991191949501e-19\n",
      "\n",
      "Variant: Variant B\n",
      "T-statistic: 2.185603002966376\n",
      "P-value: 0.02954933684992903\n",
      "\n",
      "Variant: Variant A\n",
      "T-statistic: 7.655978012778227\n",
      "P-value: 2.1535184266466226e-13\n",
      "\n"
     ]
    }
   ],
   "source": [
    "# Analyzing Time Spent\n",
    "# Perform the appropriate statistical test for each variant and Time Spent\n",
    "for variant in variants:\n",
    "    variant_data = df[df['Variant'] == variant]['Time Spent']\n",
    "    overall_time_spent_mean = df['Time Spent'].mean()\n",
    "    t_stat, p_val = stats.ttest_1samp(variant_data, overall_time_spent_mean)\n",
    "\n",
    "    print(f\"Variant: {variant}\")\n",
    "    print(f\"T-statistic: {t_stat}\")\n",
    "    print(f\"P-value: {p_val}\\n\")\n"
   ]
  }
 ],
 "metadata": {
  "kernelspec": {
   "display_name": "base",
   "language": "python",
   "name": "python3"
  },
  "language_info": {
   "codemirror_mode": {
    "name": "ipython",
    "version": 3
   },
   "file_extension": ".py",
   "mimetype": "text/x-python",
   "name": "python",
   "nbconvert_exporter": "python",
   "pygments_lexer": "ipython3",
   "version": "3.9.12"
  },
  "orig_nbformat": 4
 },
 "nbformat": 4,
 "nbformat_minor": 2
}
